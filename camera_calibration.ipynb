{
 "cells": [
  {
   "cell_type": "code",
   "execution_count": 11,
   "id": "886fad34-cc72-4ed8-a6ce-4c4f05e648e5",
   "metadata": {},
   "outputs": [
    {
     "name": "stdout",
     "output_type": "stream",
     "text": [
      "Camera Matrix:\n",
      "[[434.57252885   0.         584.91073356]\n",
      " [  0.         428.72867494 306.83691191]\n",
      " [  0.           0.           1.        ]]\n",
      "\n",
      "Distortion Coefficients:\n",
      "[[ 0.34435202 -1.05326327  0.03865779  0.00777132  1.33774711]]\n"
     ]
    }
   ],
   "source": [
    "import numpy as np\n",
    "import cv2\n",
    "\n",
    "# 동영상 파일 경로\n",
    "video_path = 'test.mp4'\n",
    "\n",
    "# 체스보드의 가로 및 세로 내부 코너 수\n",
    "chessboard_size = (7, 5)\n",
    "\n",
    "# 체스보드의 3D 좌표 생성\n",
    "objp = np.zeros((np.prod(chessboard_size), 3), dtype=np.float32)\n",
    "objp[:, :2] = np.mgrid[0:chessboard_size[0], 0:chessboard_size[1]].T.reshape(-1, 2)\n",
    "\n",
    "# 3D 포인트와 2D 포인트를 저장할 리스트\n",
    "objpoints = []  # 3D 포인트\n",
    "imgpoints = []  # 2D 포인트\n",
    "\n",
    "# 동영상 열기\n",
    "cap = cv2.VideoCapture(video_path)\n",
    "\n",
    "while True:\n",
    "    ret, frame = cap.read()\n",
    "    if not ret:\n",
    "        break\n",
    "\n",
    "    gray = cv2.cvtColor(frame, cv2.COLOR_BGR2GRAY)\n",
    "\n",
    "    # 체스보드 코너를 찾음\n",
    "    ret, corners = cv2.findChessboardCorners(gray, chessboard_size, None)\n",
    "\n",
    "    if ret == True:\n",
    "        objpoints.append(objp)\n",
    "        imgpoints.append(corners)\n",
    "\n",
    "        # 코너를 그림\n",
    "        frame = cv2.drawChessboardCorners(frame, chessboard_size, corners, ret)\n",
    "\n",
    "    cv2.imshow('frame', frame)\n",
    "    if cv2.waitKey(1) & 0xFF == ord('q'):\n",
    "        break\n",
    "\n",
    "cap.release()\n",
    "cv2.destroyAllWindows()\n",
    "\n",
    "# 카메라 캘리브레이션 수행\n",
    "ret, mtx, dist, rvecs, tvecs = cv2.calibrateCamera(objpoints, imgpoints, gray.shape[::-1], None, None)\n",
    "\n",
    "# 캘리브레이션 결과 출력\n",
    "print(\"Camera Matrix:\")\n",
    "print(mtx)\n",
    "print(\"\\nDistortion Coefficients:\")\n",
    "print(dist)"
   ]
  },
  {
   "cell_type": "code",
   "execution_count": null,
   "id": "29abb353-0b12-411d-b6b7-802f6683d20b",
   "metadata": {},
   "outputs": [],
   "source": []
  }
 ],
 "metadata": {
  "kernelspec": {
   "display_name": "Python 3 (ipykernel)",
   "language": "python",
   "name": "python3"
  },
  "language_info": {
   "codemirror_mode": {
    "name": "ipython",
    "version": 3
   },
   "file_extension": ".py",
   "mimetype": "text/x-python",
   "name": "python",
   "nbconvert_exporter": "python",
   "pygments_lexer": "ipython3",
   "version": "3.11.7"
  }
 },
 "nbformat": 4,
 "nbformat_minor": 5
}
