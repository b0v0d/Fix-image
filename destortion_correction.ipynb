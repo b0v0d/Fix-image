{
 "cells": [
  {
   "cell_type": "code",
   "execution_count": 7,
   "id": "2ec8190b-bf6d-4908-b1de-69b3ea8c2d2d",
   "metadata": {},
   "outputs": [
    {
     "ename": "error",
     "evalue": "OpenCV(4.9.0) D:\\a\\opencv-python\\opencv-python\\opencv\\modules\\imgproc\\src\\color.cpp:196: error: (-215:Assertion failed) !_src.empty() in function 'cv::cvtColor'\n",
     "output_type": "error",
     "traceback": [
      "\u001b[1;31m---------------------------------------------------------------------------\u001b[0m",
      "\u001b[1;31merror\u001b[0m                                     Traceback (most recent call last)",
      "Cell \u001b[1;32mIn[7], line 20\u001b[0m\n\u001b[0;32m     18\u001b[0m \u001b[38;5;66;03m# 보정에 사용할 이미지 읽기\u001b[39;00m\n\u001b[0;32m     19\u001b[0m image \u001b[38;5;241m=\u001b[39m cv2\u001b[38;5;241m.\u001b[39mimread(image_path)\n\u001b[1;32m---> 20\u001b[0m gray_image \u001b[38;5;241m=\u001b[39m cv2\u001b[38;5;241m.\u001b[39mcvtColor(image, cv2\u001b[38;5;241m.\u001b[39mCOLOR_BGR2GRAY)\n\u001b[0;32m     22\u001b[0m \u001b[38;5;66;03m# 체스보드 코너를 검출\u001b[39;00m\n\u001b[0;32m     23\u001b[0m ret, corners \u001b[38;5;241m=\u001b[39m cv2\u001b[38;5;241m.\u001b[39mfindChessboardCorners(gray_image, chessboard_size, \u001b[38;5;28;01mNone\u001b[39;00m)\n",
      "\u001b[1;31merror\u001b[0m: OpenCV(4.9.0) D:\\a\\opencv-python\\opencv-python\\opencv\\modules\\imgproc\\src\\color.cpp:196: error: (-215:Assertion failed) !_src.empty() in function 'cv::cvtColor'\n"
     ]
    }
   ],
   "source": [
    "import numpy as np\n",
    "import cv2\n",
    "\n",
    "# 보정에 사용할 체스보드 이미지\n",
    "image_path = 'test_image.jpg'\n",
    "\n",
    "# 체스보드의 가로 및 세로 내부 코너 수\n",
    "chessboard_size = (7, 5)\n",
    "\n",
    "# 3D 좌표 생성\n",
    "objp = np.zeros((np.prod(chessboard_size), 3), dtype=np.float32)\n",
    "objp[:, :2] = np.mgrid[0:chessboard_size[0], 0:chessboard_size[1]].T.reshape(-1, 2)\n",
    "\n",
    "# 3D 포인트와 2D 포인트를 저장할 리스트\n",
    "objpoints = []  # 3D 포인트\n",
    "imgpoints = []  # 2D 포인트\n",
    "\n",
    "# 보정에 사용할 이미지 읽기\n",
    "image = cv2.imread(image_path)\n",
    "gray_image = cv2.cvtColor(image, cv2.COLOR_BGR2GRAY)\n",
    "\n",
    "# 체스보드 코너를 검출\n",
    "ret, corners = cv2.findChessboardCorners(gray_image, chessboard_size, None)\n",
    "\n",
    "if ret == True:\n",
    "    objpoints.append(objp)\n",
    "    imgpoints.append(corners)\n",
    "\n",
    "    # 왜곡 보정을 위해 카메라 매트릭스와 왜곡 계수 계산\n",
    "    ret, mtx, dist, rvecs, tvecs = cv2.calibrateCamera(objpoints, imgpoints, gray_image.shape[::-1], None, None)\n",
    "\n",
    "    # 왜곡 보정\n",
    "    undistorted_image = cv2.undistort(image, mtx, dist, None, mtx)\n",
    "\n",
    "    # 보정된 이미지 출력\n",
    "    cv2.imshow('Undistorted Image', undistorted_image)\n",
    "    cv2.waitKey(0)\n",
    "    cv2.destroyAllWindows()\n",
    "else:\n",
    "    print(\"체스보드 코너를 찾을 수 없습니다.\")"
   ]
  },
  {
   "cell_type": "code",
   "execution_count": null,
   "id": "3188fc6b-9e17-4caf-943e-9c3684059a59",
   "metadata": {},
   "outputs": [],
   "source": []
  }
 ],
 "metadata": {
  "kernelspec": {
   "display_name": "Python 3 (ipykernel)",
   "language": "python",
   "name": "python3"
  },
  "language_info": {
   "codemirror_mode": {
    "name": "ipython",
    "version": 3
   },
   "file_extension": ".py",
   "mimetype": "text/x-python",
   "name": "python",
   "nbconvert_exporter": "python",
   "pygments_lexer": "ipython3",
   "version": "3.11.7"
  }
 },
 "nbformat": 4,
 "nbformat_minor": 5
}
